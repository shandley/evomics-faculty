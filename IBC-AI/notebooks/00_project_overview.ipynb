{
 "cells": [
  {
   "cell_type": "markdown",
   "metadata": {},
   "source": [
    "# IBC-AI Project Overview\n",
    "\n",
    "This notebook provides an introduction to the IBC-AI system for automated review of biosafety protocols.\n",
    "\n",
    "## Project Goals\n",
    "\n",
    "The IBC-AI system aims to automate and enhance the review of Institutional Biological and Chemical Safety Committee (IBC) protocols by:\n",
    "\n",
    "1. Extracting structured information from protocol documents\n",
    "2. Identifying inconsistencies and contradictions within protocols\n",
    "3. Checking compliance against regulatory requirements\n",
    "4. Assessing risk levels for biological agents and procedures\n",
    "5. Providing decision support for human reviewers\n"
   ]
  },
  {
   "cell_type": "code",
   "execution_count": null,
   "metadata": {},
   "source": [
    "# Import core libraries and check versions\n",
    "import sys\n",
    "import pandas as pd\n",
    "import numpy as np\n",
    "import matplotlib.pyplot as plt\n",
    "\n",
    "# Add project to path if not installed\n",
    "import sys\n",
    "from pathlib import Path\n",
    "project_path = Path.cwd().parent\n",
    "if str(project_path) not in sys.path:\n",
    "    sys.path.append(str(project_path))\n",
    "\n",
    "# Import project version\n",
    "from ibc_ai.version import get_versions_info\n",
    "\n",
    "# Display version information\n",
    "versions = get_versions_info()\n",
    "print(f\"IBC-AI Version: {versions['ibc_ai']}\")\n",
    "print(\"\\nDependency Versions:\")\n",
    "for package, version in versions['dependencies'].items():\n",
    "    print(f\"  {package}: {version}\")"
   ]
  },
  {
   "cell_type": "markdown",
   "metadata": {},
   "source": [
    "## System Architecture Overview\n",
    "\n",
    "The IBC-AI system has these main components:\n",
    "\n",
    "1. **Document Processing**: Extract and structure protocols from PDF documents\n",
    "2. **Knowledge Base**: Biosafety regulations, agent information, and procedure ontology\n",
    "3. **Analysis Engine**: Compliance checking, inconsistency detection, and risk assessment\n",
    "4. **Privacy Architecture**: Secure processing with hybrid model approach"
   ]
  },
  {
   "cell_type": "markdown",
   "metadata": {},
   "source": [
    "## Notebook Index\n",
    "\n",
    "This series of Jupyter notebooks explores different aspects of the system:\n",
    "\n",
    "1. **00_project_overview.ipynb**: Overview of the project (this notebook)\n",
    "2. **01_document_ingestion.ipynb**: Processing protocols from PDF documents\n",
    "3. **02_knowledge_base.ipynb**: Biosafety knowledge representation\n",
    "4. **03_entity_extraction.ipynb**: Entity extraction from protocol documents\n",
    "5. **04_inconsistency_detection.ipynb**: Identifying contradictions in protocols\n",
    "6. **05_risk_assessment.ipynb**: Risk evaluation for biological agents and procedures\n",
    "7. **06_compliance_checking.ipynb**: Regulatory compliance verification\n",
    "8. **07_privacy_architecture.ipynb**: Data privacy and secure processing"
   ]
  },
  {
   "cell_type": "markdown",
   "metadata": {},
   "source": [
    "## Getting Started\n",
    "\n",
    "To use these notebooks effectively, follow the project README.md for setting up the development environment. Each notebook includes detailed instructions and examples to demonstrate key system capabilities."
   ]
  }
 ],
 "metadata": {
  "kernelspec": {
   "display_name": "Python 3",
   "language": "python",
   "name": "python3"
  },
  "language_info": {
   "codemirror_mode": {
    "name": "ipython",
    "version": 3
   },
   "file_extension": ".py",
   "mimetype": "text/x-python",
   "name": "python",
   "nbconvert_exporter": "python",
   "pygments_lexer": "ipython3",
   "version": "3.10.0"
  }
 },
 "nbformat": 4,
 "nbformat_minor": 4
}